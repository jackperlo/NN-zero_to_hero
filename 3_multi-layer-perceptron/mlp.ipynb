{
 "cells": [
  {
   "cell_type": "code",
   "execution_count": 2,
   "id": "e04d5ef7",
   "metadata": {},
   "outputs": [],
   "source": [
    "import torch\n",
    "import torch.nn.functional as F\n",
    "import matplotlib.pyplot as plt\n",
    "%matplotlib inline"
   ]
  },
  {
   "cell_type": "code",
   "execution_count": 4,
   "id": "4ed999ad",
   "metadata": {},
   "outputs": [
    {
     "data": {
      "text/plain": [
       "['emma', 'olivia', 'ava', 'isabella', 'sophia', 'charlotte', 'mia', 'amelia']"
      ]
     },
     "execution_count": 4,
     "metadata": {},
     "output_type": "execute_result"
    }
   ],
   "source": [
    "words = open('names.txt', 'r').read().splitlines()\n",
    "words[:8]"
   ]
  },
  {
   "cell_type": "code",
   "execution_count": 10,
   "id": "2b0ce8dc",
   "metadata": {},
   "outputs": [
    {
     "name": "stdout",
     "output_type": "stream",
     "text": [
      "{1: 'a', 2: 'b', 3: 'c', 4: 'd', 5: 'e', 6: 'f', 7: 'g', 8: 'h', 9: 'i', 10: 'j', 11: 'k', 12: 'l', 13: 'm', 14: 'n', 15: 'o', 16: 'p', 17: 'q', 18: 'r', 19: 's', 20: 't', 21: 'u', 22: 'v', 23: 'w', 24: 'x', 25: 'y', 26: 'z', 0: '.'}\n"
     ]
    }
   ],
   "source": [
    "# build a vocabulary of unique characters and map them from/to integers\n",
    "chars = sorted(list(set(''.join(words))))\n",
    "stoi = {ch: i + 1 for i, ch in enumerate(chars)}  # 1-indexed\n",
    "stoi['.'] = 0  \n",
    "itos = {i: ch for ch, i in stoi.items()}  # 0-indexed\n",
    "print(itos)"
   ]
  },
  {
   "cell_type": "code",
   "execution_count": 11,
   "id": "d5b1ad64",
   "metadata": {},
   "outputs": [],
   "source": [
    "# build the dataset\n",
    "\n",
    "block_size = 3 # context length: how many characters do we take to predict the next one?\n",
    "X, Y = [], []\n",
    "\n",
    "for w in words:\n",
    "  #print(w)\n",
    "  context = [0] * block_size\n",
    "  for ch in w + '.':\n",
    "    ix = stoi[ch]\n",
    "    X.append(context)\n",
    "    Y.append(ix)\n",
    "    #print(''.join(itos[i] for i in context), '--->', itos[ix])\n",
    "    context = context[1:] + [ix] # crop and append\n",
    "  \n",
    "X = torch.tensor(X)\n",
    "Y = torch.tensor(Y)\n",
    "\n",
    "# the x contains the context to predict the Y next character; e.g.:\n",
    "# X[0] = [0, 0, 0] (which are '.') and Y[0] = 1 (which is 'a') meaning that given \n",
    "# the context of 3 '.' we predict 'a'"
   ]
  },
  {
   "cell_type": "code",
   "execution_count": 12,
   "id": "72a4e6f2",
   "metadata": {},
   "outputs": [
    {
     "data": {
      "text/plain": [
       "(torch.Size([228146, 3]), torch.int64, torch.Size([228146]), torch.int64)"
      ]
     },
     "execution_count": 12,
     "metadata": {},
     "output_type": "execute_result"
    }
   ],
   "source": [
    "X.shape, X.dtype, Y.shape, Y.dtype\n",
    "# 228146 = 27*27*27 possible combinations of 3 characters"
   ]
  },
  {
   "cell_type": "code",
   "execution_count": 13,
   "id": "fde573b1",
   "metadata": {},
   "outputs": [
    {
     "data": {
      "text/plain": [
       "tensor([[ 1.5674, -0.2373],\n",
       "        [-0.0274, -1.1008],\n",
       "        [ 0.2859, -0.0296],\n",
       "        [-1.5471,  0.6049],\n",
       "        [ 0.0791,  0.9046],\n",
       "        [-0.4713,  0.7868],\n",
       "        [-0.3284, -0.4330],\n",
       "        [ 1.3729,  2.9334],\n",
       "        [ 1.5618, -1.6261],\n",
       "        [ 0.6772, -0.8404],\n",
       "        [ 0.9849, -0.1484],\n",
       "        [-1.4795,  0.4483],\n",
       "        [-0.0707,  2.4968],\n",
       "        [ 2.4448, -0.6701],\n",
       "        [-1.2199,  0.3031],\n",
       "        [-1.0725,  0.7276],\n",
       "        [ 0.0511,  1.3095],\n",
       "        [-0.8022, -0.8504],\n",
       "        [-1.8068,  1.2523],\n",
       "        [ 0.1476, -1.0006],\n",
       "        [-0.5030, -1.0660],\n",
       "        [ 0.8480,  2.0275],\n",
       "        [-0.1158, -1.2078],\n",
       "        [-1.0406, -1.5367],\n",
       "        [-0.5132,  0.2961],\n",
       "        [-1.4904, -0.2838],\n",
       "        [ 0.2569,  0.2130]])"
      ]
     },
     "execution_count": 13,
     "metadata": {},
     "output_type": "execute_result"
    }
   ],
   "source": [
    "g = torch.Generator().manual_seed(2147483647) # random seed\n",
    "# embedding matrix (look up table, 27 rows [one per character] and 2 columns [2D embedding])\n",
    "C = torch.randn((27, 2), generator=g) \n",
    "C"
   ]
  },
  {
   "cell_type": "code",
   "execution_count": 14,
   "id": "da3ca142",
   "metadata": {},
   "outputs": [
    {
     "data": {
      "text/plain": [
       "(torch.Size([228146, 3, 2]), torch.float32)"
      ]
     },
     "execution_count": 14,
     "metadata": {},
     "output_type": "execute_result"
    }
   ],
   "source": [
    "# VVVVVVVVV\n",
    "# EMBEDDING\n",
    "# ^^^^^^^^^\n",
    "\n",
    "# in order to embed each character (considering its integer representation) we can use the following:\n",
    "# C[5] => this will give us the 2D embedding of the character with index 5 (preferable to use)\n",
    "# or we can use the following to produce the same result:\n",
    "# F.one_hot(torch.tensor(5), num_classes=27) # one-hot encoding\n",
    "\n",
    "# Indeed, a list can be passed to the embedding matrix to get the corresponding embeddings in one shot:\n",
    "# (NOTE: embedding in a 2D space is like placing characters in a 2D plane)\n",
    "emb = C[X] # (228146, 3, 2) => 228146 rows, 3 columns (block size), 2D embedding\n",
    "emb.shape, emb.dtype"
   ]
  },
  {
   "cell_type": "code",
   "execution_count": 15,
   "id": "794bb99c",
   "metadata": {},
   "outputs": [
    {
     "data": {
      "text/plain": [
       "(torch.Size([228146, 100]), torch.float32)"
      ]
     },
     "execution_count": 15,
     "metadata": {},
     "output_type": "execute_result"
    }
   ],
   "source": [
    "# inputs: 2D embedding * block size => 6*100 (output: 100, taken arbitrarily)\n",
    "W1 = torch.randn((2*block_size, 100), generator=g) \n",
    "# 100 neurons in the hidden layer and 27 neurons in the output layer\n",
    "b1 = torch.randn((100), generator=g) \n",
    "\n",
    "# Now, to perform the matrix multiplication we need to reshape the embedding matrix\n",
    "# emb @ W1 + b1 => (228146, 3, 2) @ (6, 100) + (100) = (228146, 3, 100)\n",
    "# but we need to reshape the embedding matrix to (228146, 6) in order to perform the multiplication\n",
    "\n",
    "# First way: (but does not generalize)\n",
    "# torch.cat([emb[:,0,:], emb[:,1,:], emb[:,2,:]], dim=1).shape # (228146, 6)\n",
    "\n",
    "# Second way: (generalizes)\n",
    "# torch.cat(torch.unbind(emb, 1), dim=1) # (228146, 6)\n",
    "\n",
    "# Third way: (!best way)\n",
    "# VIEW: it does not copy the data, it just changes the view of the tensor. This is the most efficient \n",
    "# way to reshape a tensor since .storage() (showing the 1D array as stored in memory) is not changed\n",
    "# emb.view(emb.shape[0], -1) # (228146, 3*2), with -1 we let PyTorch to infer the second dimension\n",
    "\n",
    "h = torch.tanh(emb.view(emb.shape[0], -1) @ W1 + b1) \n",
    "h.shape, h.dtype"
   ]
  },
  {
   "cell_type": "code",
   "execution_count": 16,
   "id": "9463b058",
   "metadata": {},
   "outputs": [
    {
     "data": {
      "text/plain": [
       "tensor(19.5052)"
      ]
     },
     "execution_count": 16,
     "metadata": {},
     "output_type": "execute_result"
    }
   ],
   "source": [
    "W2 = torch.randn((100, 27), generator=g) # 100 inputs and 27 outputs (one per each character)\n",
    "b2 = torch.randn((27), generator=g) # bias for the output layer, 27 as well\n",
    "\n",
    "logits = h @ W2 + b2 # (228146, 100) @ (100, 27) + (27) = (228146, 27)\n",
    "# these three lines are equivalent to Cross-Entropy Loss!\n",
    "#counts = logits.exp()\n",
    "#probs = counts / counts.sum(1, keepdim=True)\n",
    "#loss = -probs[torch.arange(logits.shape[0]), Y].log().mean() \n",
    "loss = F.cross_entropy(logits, Y) # Cross-Entropy Loss\n",
    "loss "
   ]
  },
  {
   "cell_type": "code",
   "execution_count": 33,
   "id": "df55e145",
   "metadata": {},
   "outputs": [
    {
     "data": {
      "text/plain": [
       "3481"
      ]
     },
     "execution_count": 33,
     "metadata": {},
     "output_type": "execute_result"
    }
   ],
   "source": [
    "# VVVVVVV\n",
    "# SUMMARY\n",
    "# ^^^^^^^\n",
    "\n",
    "g = torch.Generator().manual_seed(2147483647) # for reproducibility\n",
    "C = torch.randn((27, 2), generator=g)\n",
    "W1 = torch.randn((6, 100), generator=g)\n",
    "b1 = torch.randn(100, generator=g)\n",
    "W2 = torch.randn((100, 27), generator=g)\n",
    "b2 = torch.randn(27, generator=g)\n",
    "parameters = [C, W1, b1, W2, b2]\n",
    "\n",
    "sum(p.nelement() for p in parameters) # number of parameters in total"
   ]
  },
  {
   "cell_type": "code",
   "execution_count": 38,
   "id": "5d0dd2cc",
   "metadata": {},
   "outputs": [],
   "source": [
    "# VVVVVVVVVVVV\n",
    "# BATCHES SIZE and training loop\n",
    "# ^^^^^^^^^^^^\n",
    "# since we are dealing with thousands of parameters, performing forward, backward passes and updates requires\n",
    "# a lot of time. So, we can use mini-batches to speed up the process.\n",
    "# Since we are using batches, the quality of gradients is no longer as reliable as before, so we need to\n",
    "# perform more iterations to get the same quality of gradients.\n",
    "\n",
    "# VVVVVVVVVVVVVVVVVVVVV\n",
    "# INITIAL LEARNING RATE determination example \n",
    "# ^^^^^^^^^^^^^^^^^^^^^\n",
    "lre = torch.linspace(-3, 0, 10000) # learning rate range\n",
    "lrs = 10 ** lre # learning rate\n",
    "\n",
    "# VVVVVVVVVVVVVVVVVVV\n",
    "# LEARNING RATE DECAY\n",
    "# ^^^^^^^^^^^^^^^^^^^\n",
    "# we can use a learning rate decay to reduce the learning rate as the training progresses\n",
    "# this is a common practice to avoid overshooting the minimum\n",
    "# and to help the model converge better.\n",
    "\n",
    "lri = []\n",
    "lossi = []\n",
    "# training loop\n",
    "for p in parameters:\n",
    "  p.requires_grad = True \n",
    "\n",
    "for i in range(10000):\n",
    "  # batch size of 32\n",
    "  ix = torch.randint(0, X.shape[0], (32,)) # random indices\n",
    "\n",
    "  # forward pass:\n",
    "  emb = C[X[ix]]\n",
    "  h = torch.tanh(emb.view(emb.shape[0], -1) @ W1 + b1) \n",
    "  logits = h @ W2 + b2 \n",
    "  loss = F.cross_entropy(logits, Y[ix])\n",
    "  #print(loss.item()) \n",
    "\n",
    "  # backward pass:\n",
    "  for p in parameters:\n",
    "    p.grad = None \n",
    "  loss.backward()\n",
    "\n",
    "  # update parameters:\n",
    "  lr = lrs[i]\n",
    "  lr = 0.1 # gathered by plotting the loss vs learning rate\n",
    "  for p in parameters: \n",
    "    p.data += -lr * p.grad\n",
    "\n",
    "  # track stats\n",
    "  lri.append(lre[i])\n",
    "  lossi.append(loss.item())"
   ]
  },
  {
   "cell_type": "code",
   "execution_count": 36,
   "id": "bf73e7ec",
   "metadata": {},
   "outputs": [
    {
     "data": {
      "text/plain": [
       "[<matplotlib.lines.Line2D at 0x160bc78d0>]"
      ]
     },
     "execution_count": 36,
     "metadata": {},
     "output_type": "execute_result"
    },
    {
     "data": {
      "image/png": "[encoded data removed]",
      "text/plain": [
       "<Figure size 640x480 with 1 Axes>"
      ]
     },
     "metadata": {},
     "output_type": "display_data"
    }
   ],
   "source": [
    "plt.plot(lri, lossi)\n",
    "# the graph is telling that a reasonable learning rate exponent is between -1.5 and -0.5: let's use 10**-1.0 = 0.1"
   ]
  },
  {
   "cell_type": "code",
   "execution_count": 39,
   "id": "9a43a67f",
   "metadata": {},
   "outputs": [
    {
     "data": {
      "text/plain": [
       "tensor(2.3752, grad_fn=<NllLossBackward0>)"
      ]
     },
     "execution_count": 39,
     "metadata": {},
     "output_type": "execute_result"
    }
   ],
   "source": [
    "emb = C[X]\n",
    "h = torch.tanh(emb.view(-1, 6) @ W1 + b1)\n",
    "logits = h @ W2 + b2 \n",
    "loss = F.cross_entropy(logits, Y)\n",
    "loss"
   ]
  },
  {
   "cell_type": "code",
   "execution_count": 40,
   "id": "03b2abb1",
   "metadata": {},
   "outputs": [
    {
     "name": "stdout",
     "output_type": "stream",
     "text": [
      "torch.Size([182625, 3]) torch.Size([182625])\n",
      "torch.Size([22655, 3]) torch.Size([22655])\n",
      "torch.Size([22866, 3]) torch.Size([22866])\n"
     ]
    }
   ],
   "source": [
    "# BUILD TRAIN, VALIDATION AND TESTING SETS\n",
    "\n",
    "block_size = 3 # context length: how many characters do we take to predict the next one?\n",
    "\n",
    "def build_dataset(words):  \n",
    "  X, Y = [], []\n",
    "  for w in words:\n",
    "\n",
    "    #print(w)\n",
    "    context = [0] * block_size\n",
    "    for ch in w + '.':\n",
    "      ix = stoi[ch]\n",
    "      X.append(context)\n",
    "      Y.append(ix)\n",
    "      #print(''.join(itos[i] for i in context), '--->', itos[ix])\n",
    "      context = context[1:] + [ix] # crop and append\n",
    "\n",
    "  X = torch.tensor(X)\n",
    "  Y = torch.tensor(Y)\n",
    "  print(X.shape, Y.shape)\n",
    "  return X, Y\n",
    "\n",
    "import random\n",
    "random.seed(42)\n",
    "random.shuffle(words)\n",
    "n1 = int(0.8*len(words))\n",
    "n2 = int(0.9*len(words))\n",
    "\n",
    "Xtr, Ytr = build_dataset(words[:n1])\n",
    "Xdev, Ydev = build_dataset(words[n1:n2])\n",
    "Xte, Yte = build_dataset(words[n2:])"
   ]
  },
  {
   "cell_type": "code",
   "execution_count": 41,
   "id": "a1f1a7b9",
   "metadata": {},
   "outputs": [
    {
     "data": {
      "image/png": "[encoded data removed]",
      "text/plain": [
       "<Figure size 800x800 with 1 Axes>"
      ]
     },
     "metadata": {},
     "output_type": "display_data"
    }
   ],
   "source": [
    "plt.figure(figsize=(8,8))\n",
    "plt.scatter(C[:,0].data, C[:,1].data, s=200)\n",
    "for i in range(C.shape[0]):\n",
    "    plt.text(C[i,0].item(), C[i,1].item(), itos[i], ha=\"center\", va=\"center\", color='white')\n",
    "plt.grid('minor')"
   ]
  },
  {
   "cell_type": "code",
   "execution_count": 45,
   "id": "1c658a31",
   "metadata": {},
   "outputs": [],
   "source": [
    "# enlarge embedding size\n",
    "g = torch.Generator().manual_seed(2147483647) # for reproducibility\n",
    "C = torch.randn((27, 10), generator=g)\n",
    "W1 = torch.randn((30, 200), generator=g)\n",
    "b1 = torch.randn(200, generator=g)\n",
    "W2 = torch.randn((200, 27), generator=g)\n",
    "b2 = torch.randn(27, generator=g)\n",
    "parameters = [C, W1, b1, W2, b2]\n",
    "\n",
    "lre = torch.linspace(-3, 0, 10000) # learning rate range\n",
    "lrs = 10 ** lre # learning rate\n",
    "\n",
    "lri = []\n",
    "lossi = []\n",
    "# training loop\n",
    "for p in parameters:\n",
    "  p.requires_grad = True \n",
    "\n",
    "for i in range(10000):\n",
    "  # batch size of 32\n",
    "  ix = torch.randint(0, X.shape[0], (32,)) # random indices\n",
    "\n",
    "  # forward pass:\n",
    "  emb = C[X[ix]]\n",
    "  h = torch.tanh(emb.view(emb.shape[0], -1) @ W1 + b1) \n",
    "  logits = h @ W2 + b2 \n",
    "  loss = F.cross_entropy(logits, Y[ix])\n",
    "  #print(loss.item()) \n",
    "\n",
    "  # backward pass:\n",
    "  for p in parameters:\n",
    "    p.grad = None \n",
    "  loss.backward()\n",
    "\n",
    "  # update parameters:\n",
    "  lr = lrs[i]\n",
    "  lr = 0.1 # gathered by plotting the loss vs learning rate\n",
    "  for p in parameters: \n",
    "    p.data += -lr * p.grad\n",
    "\n",
    "  # track stats\n",
    "  lri.append(lre[i])\n",
    "  lossi.append(loss.log10().item())"
   ]
  },
  {
   "cell_type": "code",
   "execution_count": 46,
   "id": "a72a1c4a",
   "metadata": {},
   "outputs": [
    {
     "data": {
      "text/plain": [
       "[<matplotlib.lines.Line2D at 0x17b300d50>]"
      ]
     },
     "execution_count": 46,
     "metadata": {},
     "output_type": "execute_result"
    },
    {
     "data": {
      "image/png": "[encoded data removed]",
      "text/plain": [
       "<Figure size 640x480 with 1 Axes>"
      ]
     },
     "metadata": {},
     "output_type": "display_data"
    }
   ],
   "source": [
    "plt.plot(lri, lossi)"
   ]
  },
  {
   "cell_type": "code",
   "execution_count": 48,
   "id": "e5b13ee8",
   "metadata": {},
   "outputs": [
    {
     "name": "stdout",
     "output_type": "stream",
     "text": [
      "carla.\n",
      "zamiyllyah.\n",
      "jalix.\n",
      "tatykenanyan.\n",
      "jazonen.\n",
      "amlyyat.\n",
      "areeia.\n",
      "ramara.\n",
      "chaiir.\n",
      "asleigar.\n",
      "amandin.\n",
      "quinton.\n",
      "lalea.\n",
      "jamii.\n",
      "wazeron.\n",
      "jaryxika.\n",
      "auurinsayley.\n",
      "eliia.\n",
      "atasley.\n",
      "alyah.\n"
     ]
    }
   ],
   "source": [
    "# sample from the model\n",
    "g = torch.Generator().manual_seed(2147483647 + 10)\n",
    "\n",
    "for _ in range(20):\n",
    "    \n",
    "    out = []\n",
    "    context = [0] * block_size # initialize with all ...\n",
    "    while True:\n",
    "      emb = C[torch.tensor([context])] # (1,block_size,d)\n",
    "      h = torch.tanh(emb.view(1, -1) @ W1 + b1)\n",
    "      logits = h @ W2 + b2\n",
    "      probs = F.softmax(logits, dim=1)\n",
    "      ix = torch.multinomial(probs, num_samples=1, generator=g).item()\n",
    "      context = context[1:] + [ix]\n",
    "      out.append(ix)\n",
    "      if ix == 0:\n",
    "        break\n",
    "    \n",
    "    print(''.join(itos[i] for i in out))"
   ]
  }
 ],
 "metadata": {
  "kernelspec": {
   "display_name": "base",
   "language": "python",
   "name": "python3"
  },
  "language_info": {
   "codemirror_mode": {
    "name": "ipython",
    "version": 3
   },
   "file_extension": ".py",
   "mimetype": "text/x-python",
   "name": "python",
   "nbconvert_exporter": "python",
   "pygments_lexer": "ipython3",
   "version": "3.11.7"
  }
 },
 "nbformat": 4,
 "nbformat_minor": 5
}
